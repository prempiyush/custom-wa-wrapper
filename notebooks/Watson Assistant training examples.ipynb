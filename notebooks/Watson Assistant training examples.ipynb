{
 "cells": [
  {
   "cell_type": "code",
   "execution_count": 1,
   "metadata": {},
   "outputs": [],
   "source": [
    "import pandas as pd"
   ]
  },
  {
   "cell_type": "code",
   "execution_count": 2,
   "metadata": {},
   "outputs": [],
   "source": [
    "df = pd.read_csv(\"Amazon_Unlocked_Mobile.csv\")\n",
    "df.drop_duplicates(subset=\"Reviews\", inplace=True)\n",
    "df.Rating = df.Rating.replace(to_replace={5: \"Very_Good\", 4: \"Good\", 3: \"OK\", 2: \"Bad\", 1: \"Very_Bad\"})\n",
    "df[\"word_count\"] = df.Reviews.apply(lambda row: len(str(row).split()))\n",
    "df[\"length\"] = df.Reviews.apply(lambda row: len(str(row)))"
   ]
  },
  {
   "cell_type": "code",
   "execution_count": 3,
   "metadata": {
    "scrolled": true
   },
   "outputs": [
    {
     "data": {
      "text/html": [
       "<div>\n",
       "<style scoped>\n",
       "    .dataframe tbody tr th:only-of-type {\n",
       "        vertical-align: middle;\n",
       "    }\n",
       "\n",
       "    .dataframe tbody tr th {\n",
       "        vertical-align: top;\n",
       "    }\n",
       "\n",
       "    .dataframe thead th {\n",
       "        text-align: right;\n",
       "    }\n",
       "</style>\n",
       "<table border=\"1\" class=\"dataframe\">\n",
       "  <thead>\n",
       "    <tr style=\"text-align: right;\">\n",
       "      <th></th>\n",
       "      <th>Rating</th>\n",
       "      <th>Reviews</th>\n",
       "      <th>word_count</th>\n",
       "      <th>length</th>\n",
       "    </tr>\n",
       "  </thead>\n",
       "  <tbody>\n",
       "    <tr>\n",
       "      <th>0</th>\n",
       "      <td>Very_Good</td>\n",
       "      <td>I feel so LUCKY to have found this used (phone...</td>\n",
       "      <td>72</td>\n",
       "      <td>374</td>\n",
       "    </tr>\n",
       "    <tr>\n",
       "      <th>1</th>\n",
       "      <td>Good</td>\n",
       "      <td>nice phone, nice up grade from my pantach revu...</td>\n",
       "      <td>40</td>\n",
       "      <td>214</td>\n",
       "    </tr>\n",
       "    <tr>\n",
       "      <th>2</th>\n",
       "      <td>Very_Good</td>\n",
       "      <td>Very pleased</td>\n",
       "      <td>2</td>\n",
       "      <td>12</td>\n",
       "    </tr>\n",
       "    <tr>\n",
       "      <th>3</th>\n",
       "      <td>Good</td>\n",
       "      <td>It works good but it goes slow sometimes but i...</td>\n",
       "      <td>17</td>\n",
       "      <td>76</td>\n",
       "    </tr>\n",
       "    <tr>\n",
       "      <th>4</th>\n",
       "      <td>Good</td>\n",
       "      <td>Great phone to replace my lost phone. The only...</td>\n",
       "      <td>43</td>\n",
       "      <td>223</td>\n",
       "    </tr>\n",
       "  </tbody>\n",
       "</table>\n",
       "</div>"
      ],
      "text/plain": [
       "      Rating                                            Reviews  word_count  \\\n",
       "0  Very_Good  I feel so LUCKY to have found this used (phone...          72   \n",
       "1       Good  nice phone, nice up grade from my pantach revu...          40   \n",
       "2  Very_Good                                       Very pleased           2   \n",
       "3       Good  It works good but it goes slow sometimes but i...          17   \n",
       "4       Good  Great phone to replace my lost phone. The only...          43   \n",
       "\n",
       "   length  \n",
       "0     374  \n",
       "1     214  \n",
       "2      12  \n",
       "3      76  \n",
       "4     223  "
      ]
     },
     "execution_count": 3,
     "metadata": {},
     "output_type": "execute_result"
    }
   ],
   "source": [
    "df.head()"
   ]
  },
  {
   "cell_type": "code",
   "execution_count": 4,
   "metadata": {},
   "outputs": [
    {
     "data": {
      "text/plain": [
       "Very_Good    78129\n",
       "Very_Bad     32920\n",
       "Good         25644\n",
       "OK           14366\n",
       "Bad          11428\n",
       "Name: Rating, dtype: int64"
      ]
     },
     "execution_count": 4,
     "metadata": {},
     "output_type": "execute_result"
    }
   ],
   "source": [
    "df.Rating.value_counts()"
   ]
  },
  {
   "cell_type": "code",
   "execution_count": 5,
   "metadata": {},
   "outputs": [
    {
     "data": {
      "text/plain": [
       "Very_Good    42879\n",
       "Very_Bad     23668\n",
       "Good         17018\n",
       "OK           10315\n",
       "Bad           8444\n",
       "Name: Rating, dtype: int64"
      ]
     },
     "execution_count": 5,
     "metadata": {},
     "output_type": "execute_result"
    }
   ],
   "source": [
    "df[(df.length < 1024) & (df.word_count >= 15)][\"Rating\"].value_counts()"
   ]
  },
  {
   "cell_type": "code",
   "execution_count": 6,
   "metadata": {},
   "outputs": [],
   "source": [
    "for intent in df.Rating.unique():\n",
    "    df[(df.length < 1024) & (df.word_count >= 15) & (df.Rating == intent)][[\"Reviews\", \"Rating\"]].sample(n=1000).to_csv(\"WA_{}_training.csv\".format(intent), index=False, header=False)"
   ]
  },
  {
   "cell_type": "code",
   "execution_count": 7,
   "metadata": {},
   "outputs": [],
   "source": [
    "for intent in df.Rating.unique():\n",
    "    df[(df.length < 1024) & (df.word_count >= 15) & (df.Rating == intent)][[\"Reviews\", \"Rating\"]].sample(n=1000).to_csv(\"WA_{}_feedback.csv\".format(intent), index=False, header=False)"
   ]
  }
 ],
 "metadata": {
  "kernelspec": {
   "display_name": "python playground",
   "language": "python",
   "name": ".venv_python_playground"
  },
  "language_info": {
   "codemirror_mode": {
    "name": "ipython",
    "version": 3
   },
   "file_extension": ".py",
   "mimetype": "text/x-python",
   "name": "python",
   "nbconvert_exporter": "python",
   "pygments_lexer": "ipython3",
   "version": "3.6.5"
  }
 },
 "nbformat": 4,
 "nbformat_minor": 2
}
