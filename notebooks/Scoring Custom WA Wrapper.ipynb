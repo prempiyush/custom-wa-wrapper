{
 "cells": [
  {
   "cell_type": "code",
   "execution_count": 1,
   "metadata": {},
   "outputs": [],
   "source": [
    "#!pip install ibm_ai_openscale"
   ]
  },
  {
   "cell_type": "code",
   "execution_count": 1,
   "metadata": {},
   "outputs": [],
   "source": [
    "from ibm_ai_openscale import APIClient\n",
    "from ibm_ai_openscale.supporting_classes import PayloadRecord\n",
    "\n",
    "# Guide to create AIOS credentials -> https://cloud.ibm.com/docs/services/ai-openscale?topic=ai-openscale-cred-create\n",
    "aios_credentials = {\n",
    "                      \"instance_guid\": \"<your openscale instance id>\",\n",
    "                      \"apikey\": \"***\",\n",
    "                      \"url\": \"https://api.aiopenscale.cloud.ibm.com\"\n",
    "                   }\n",
    "\n",
    "client = APIClient(aios_credentials)"
   ]
  },
  {
   "cell_type": "code",
   "execution_count": 2,
   "metadata": {
    "scrolled": true
   },
   "outputs": [
    {
     "data": {
      "text/html": [
       "<HTML>\n",
       "        <body>\n",
       "            <h3>Subscriptions</h3>\n",
       "            <table style='border: 1px solid #dddddd; font-family: Courier'>\n",
       "                <th style='border: 1px solid #dddddd'>uid</th><th style='border: 1px solid #dddddd'>name</th><th style='border: 1px solid #dddddd'>type</th><th style='border: 1px solid #dddddd'>binding_uid</th><th style='border: 1px solid #dddddd'>created</th>\n",
       "                <tr><td style='border: 1px solid #dddddd'>9f4c4392-3eb8-4717-8104-2918b941ac83</td><td style='border: 1px solid #dddddd'>[asset] Custom WA Wrapper</td><td style='border: 1px solid #dddddd'>model</td><td style='border: 1px solid #dddddd'>cba14800-7f2a-11ea-a163-1788a632d4f7</td><td style='border: 1px solid #dddddd'>2020-04-15T15:08:49.855Z</td></tr><tr><td style='border: 1px solid #dddddd'>26ea7058-e84a-4bf0-91cc-865aa294b542</td><td style='border: 1px solid #dddddd'>Go Sales  - 06 Apr 2020 18:40:12</td><td style='border: 1px solid #dddddd'>model</td><td style='border: 1px solid #dddddd'>9ce13ef2-2c7f-466a-b73a-f80322a3b317</td><td style='border: 1px solid #dddddd'>2020-04-06T13:11:14.192Z</td></tr><tr><td style='border: 1px solid #dddddd'>000e052e-7323-40a7-8307-d2b18689a16c</td><td style='border: 1px solid #dddddd'>Go Sales  - 02 Apr 2020 18:42:43</td><td style='border: 1px solid #dddddd'>model</td><td style='border: 1px solid #dddddd'>9ce13ef2-2c7f-466a-b73a-f80322a3b317</td><td style='border: 1px solid #dddddd'>2020-04-02T13:13:48.500Z</td></tr>\n",
       "            </table>\n",
       "        </body>\n",
       "        </HTML>"
      ],
      "text/plain": [
       "<IPython.core.display.HTML object>"
      ]
     },
     "metadata": {},
     "output_type": "display_data"
    }
   ],
   "source": [
    "client.data_mart.subscriptions.list()"
   ]
  },
  {
   "cell_type": "code",
   "execution_count": 3,
   "metadata": {},
   "outputs": [],
   "source": [
    "subscription_id = \"9f4c4392-3eb8-4717-8104-2918b941ac83\"\n",
    "subscription = client.data_mart.subscriptions.get(subscription_uid=subscription_id)"
   ]
  },
  {
   "cell_type": "code",
   "execution_count": 4,
   "metadata": {},
   "outputs": [
    {
     "name": "stdout",
     "output_type": "stream",
     "text": [
      "CPU times: user 19 ms, sys: 4.67 ms, total: 23.7 ms\n",
      "Wall time: 2.51 s\n"
     ]
    }
   ],
   "source": [
    "%%time\n",
    "import requests\n",
    "\n",
    "url = \"<your custom deployment scoring endpoint>\"\n",
    "\n",
    "payload = {\n",
    "    \"fields\": [\"Reviews\"],\n",
    "    \"values\": [\n",
    "        [\"Great phone available at an affordable price. Amazing performance and battery life make it an excellent choice.\"],\n",
    "        [\"Very disappointed. Screen barely responds to touch, Battery is taking forever to charge and dies very fast. Useless device.\"]\n",
    "    ]\n",
    "}\n",
    "\n",
    "response = requests.post(url, json=payload, auth=('admin', 'password'))"
   ]
  },
  {
   "cell_type": "code",
   "execution_count": 5,
   "metadata": {},
   "outputs": [
    {
     "data": {
      "text/plain": [
       "(200,\n",
       " '{\"fields\":[\"Reviews\",\"top_intent\",\"confidence\"],\"values\":[[\"Great phone available at an affordable price. Amazing performance and battery life make it an excellent choice.\",\"Very_Good\",[0.1284218349229962,0.11798729970815604,0.11146429820166036,0.10733957805963275,0.5347869891075547]],[\"Very disappointed. Screen barely responds to touch, Battery is taking forever to charge and dies very fast. Useless device.\",\"Very_Bad\",[0.12313512969153419,0.11768187924517681,0.12954178725467652,0.519235472319682,0.11040573148893042]]]}')"
      ]
     },
     "execution_count": 5,
     "metadata": {},
     "output_type": "execute_result"
    }
   ],
   "source": [
    "response.status_code, response.text"
   ]
  },
  {
   "cell_type": "code",
   "execution_count": 6,
   "metadata": {},
   "outputs": [],
   "source": [
    "records = [PayloadRecord(request=payload, response=response.json())]\n",
    "\n",
    "subscription.payload_logging.store(records=records)"
   ]
  },
  {
   "cell_type": "code",
   "execution_count": 7,
   "metadata": {},
   "outputs": [],
   "source": [
    "import time\n",
    "\n",
    "time.sleep(5)\n",
    "payload_table = subscription.payload_logging.get_table_content()"
   ]
  },
  {
   "cell_type": "code",
   "execution_count": 8,
   "metadata": {},
   "outputs": [
    {
     "data": {
      "text/html": [
       "<div>\n",
       "<style scoped>\n",
       "    .dataframe tbody tr th:only-of-type {\n",
       "        vertical-align: middle;\n",
       "    }\n",
       "\n",
       "    .dataframe tbody tr th {\n",
       "        vertical-align: top;\n",
       "    }\n",
       "\n",
       "    .dataframe thead th {\n",
       "        text-align: right;\n",
       "    }\n",
       "</style>\n",
       "<table border=\"1\" class=\"dataframe\">\n",
       "  <thead>\n",
       "    <tr style=\"text-align: right;\">\n",
       "      <th></th>\n",
       "      <th>scoring_id</th>\n",
       "      <th>scoring_timestamp</th>\n",
       "      <th>deployment_id</th>\n",
       "      <th>asset_revision</th>\n",
       "      <th>Reviews</th>\n",
       "      <th>top_intent</th>\n",
       "      <th>confidence</th>\n",
       "      <th>prediction_probability</th>\n",
       "    </tr>\n",
       "  </thead>\n",
       "  <tbody>\n",
       "    <tr>\n",
       "      <th>0</th>\n",
       "      <td>e2cdb593-4731-4c62-af40-389d7709f1eb-1</td>\n",
       "      <td>2020-04-15 15:12:45.202000+00:00</td>\n",
       "      <td>21deb68d-084a-4389-be5c-6cd13b9e3e9c</td>\n",
       "      <td>None</td>\n",
       "      <td>Great phone available at an affordable price. ...</td>\n",
       "      <td>Very_Good</td>\n",
       "      <td>[0.1284218349229962, 0.11798729970815604, 0.11...</td>\n",
       "      <td>None</td>\n",
       "    </tr>\n",
       "    <tr>\n",
       "      <th>1</th>\n",
       "      <td>e2cdb593-4731-4c62-af40-389d7709f1eb-2</td>\n",
       "      <td>2020-04-15 15:12:45.202000+00:00</td>\n",
       "      <td>21deb68d-084a-4389-be5c-6cd13b9e3e9c</td>\n",
       "      <td>None</td>\n",
       "      <td>Very disappointed. Screen barely responds to t...</td>\n",
       "      <td>Very_Bad</td>\n",
       "      <td>[0.12313512969153419, 0.11768187924517681, 0.1...</td>\n",
       "      <td>None</td>\n",
       "    </tr>\n",
       "  </tbody>\n",
       "</table>\n",
       "</div>"
      ],
      "text/plain": [
       "                               scoring_id                scoring_timestamp  \\\n",
       "0  e2cdb593-4731-4c62-af40-389d7709f1eb-1 2020-04-15 15:12:45.202000+00:00   \n",
       "1  e2cdb593-4731-4c62-af40-389d7709f1eb-2 2020-04-15 15:12:45.202000+00:00   \n",
       "\n",
       "                          deployment_id asset_revision  \\\n",
       "0  21deb68d-084a-4389-be5c-6cd13b9e3e9c           None   \n",
       "1  21deb68d-084a-4389-be5c-6cd13b9e3e9c           None   \n",
       "\n",
       "                                             Reviews top_intent  \\\n",
       "0  Great phone available at an affordable price. ...  Very_Good   \n",
       "1  Very disappointed. Screen barely responds to t...   Very_Bad   \n",
       "\n",
       "                                          confidence prediction_probability  \n",
       "0  [0.1284218349229962, 0.11798729970815604, 0.11...                   None  \n",
       "1  [0.12313512969153419, 0.11768187924517681, 0.1...                   None  "
      ]
     },
     "execution_count": 8,
     "metadata": {},
     "output_type": "execute_result"
    }
   ],
   "source": [
    "payload_table"
   ]
  },
  {
   "cell_type": "code",
   "execution_count": null,
   "metadata": {},
   "outputs": [],
   "source": []
  }
 ],
 "metadata": {
  "kernelspec": {
   "display_name": "Python 3",
   "language": "python",
   "name": "python3"
  },
  "language_info": {
   "codemirror_mode": {
    "name": "ipython",
    "version": 3
   },
   "file_extension": ".py",
   "mimetype": "text/x-python",
   "name": "python",
   "nbconvert_exporter": "python",
   "pygments_lexer": "ipython3",
   "version": "3.6.5"
  }
 },
 "nbformat": 4,
 "nbformat_minor": 2
}
